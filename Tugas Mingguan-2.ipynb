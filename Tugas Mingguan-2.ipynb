{
 "cells": [
  {
   "cell_type": "code",
   "execution_count": 1,
   "metadata": {},
   "outputs": [
    {
     "name": "stdout",
     "output_type": "stream",
     "text": [
      "Nama\t: Ishfy Achmed Mahessa\n",
      "NIM\t: 312010118\n",
      "Hello, Mahessa\n",
      "Ishfy Achmed Mahessa\n",
      "312010118\n",
      "TI20E1\n",
      "21\n",
      "Indonesia\n"
     ]
    }
   ],
   "source": [
    "f = open(\"MahessaText.txt\", \"r\")\n",
    "\n",
    "print(f.read())\n",
    "f.close()\n",
    "\n",
    "import modulmahessa\n",
    "\n",
    "modulmahessa.greeting(\"Mahessa\")\n",
    "\n",
    "from modulmahessa import person1\n",
    "\n",
    "print(person1[\"name\"])\n",
    "print(person1[\"NIM\"])\n",
    "print(person1[\"class\"])\n",
    "print(person1[\"age\"])\n",
    "print(person1[\"country\"])"
   ]
  }
 ],
 "metadata": {
  "kernelspec": {
   "display_name": "Python 3",
   "language": "python",
   "name": "python3"
  },
  "language_info": {
   "codemirror_mode": {
    "name": "ipython",
    "version": 3
   },
   "file_extension": ".py",
   "mimetype": "text/x-python",
   "name": "python",
   "nbconvert_exporter": "python",
   "pygments_lexer": "ipython3",
   "version": "3.10.8 (tags/v3.10.8:aaaf517, Oct 11 2022, 16:50:30) [MSC v.1933 64 bit (AMD64)]"
  },
  "orig_nbformat": 4,
  "vscode": {
   "interpreter": {
    "hash": "8836c00feee4d65b6dd52f7998f4b2fedbf02a39068e05120e998a04bfeeb7ee"
   }
  }
 },
 "nbformat": 4,
 "nbformat_minor": 2
}
